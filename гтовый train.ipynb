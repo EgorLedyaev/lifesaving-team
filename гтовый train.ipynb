{
  "nbformat": 4,
  "nbformat_minor": 0,
  "metadata": {
    "colab": {
      "name": "Решение.ipynb",
      "provenance": [],
      "collapsed_sections": []
    },
    "kernelspec": {
      "display_name": "Python 3",
      "language": "python",
      "name": "python3"
    },
    "language_info": {
      "codemirror_mode": {
        "name": "ipython",
        "version": 3
      },
      "file_extension": ".py",
      "mimetype": "text/x-python",
      "name": "python",
      "nbconvert_exporter": "python",
      "pygments_lexer": "ipython3",
      "version": "3.7.9"
    }
  },
  "cells": [
    {
      "cell_type": "markdown",
      "metadata": {
        "id": "5QjGL2DUJ_ZS"
      },
      "source": [
        "## Просмотр текущего каталога"
      ]
    },
    {
      "cell_type": "code",
      "metadata": {
        "id": "CpI0ynI0P-o3",
        "colab": {
          "base_uri": "https://localhost:8080/"
        },
        "outputId": "d0be4e81-6ea2-46a5-fb10-866f422408db"
      },
      "source": [
        "from google.colab import drive\n",
        "drive.mount('/content/drive')"
      ],
      "execution_count": 2,
      "outputs": [
        {
          "output_type": "stream",
          "name": "stdout",
          "text": [
            "Mounted at /content/drive\n"
          ]
        }
      ]
    },
    {
      "cell_type": "code",
      "metadata": {
        "colab": {
          "base_uri": "https://localhost:8080/"
        },
        "id": "Rw8D1TeETKxL",
        "outputId": "bb9b12fa-6bf0-44ec-90af-09418357e15b"
      },
      "source": [
        "!ls /content/drive/MyDrive/Artificial_Intelligence/hackathon_samara_2021/dataset"
      ],
      "execution_count": 4,
      "outputs": [
        {
          "output_type": "stream",
          "name": "stdout",
          "text": [
            "data10t.csv  data1.csv\t__MACOSX  rosminzdrav-dataset.zip  train.csv  val.csv\n"
          ]
        }
      ]
    },
    {
      "cell_type": "code",
      "metadata": {
        "id": "e8ltnI9RJ_ZY",
        "colab": {
          "base_uri": "https://localhost:8080/"
        },
        "outputId": "eb7fa708-fed4-43bb-d349-8459cf0427eb"
      },
      "source": [
        "!ls /content/drive/MyDrive/Artificial_Intelligence/hackathon_samara_2021/dataset"
      ],
      "execution_count": 5,
      "outputs": [
        {
          "output_type": "stream",
          "name": "stdout",
          "text": [
            "data10t.csv  data1.csv\t__MACOSX  rosminzdrav-dataset.zip  train.csv  val.csv\n"
          ]
        }
      ]
    },
    {
      "cell_type": "code",
      "metadata": {
        "id": "4HEnfMVHthZS"
      },
      "source": [
        "import pandas as pd  "
      ],
      "execution_count": 6,
      "outputs": []
    },
    {
      "cell_type": "code",
      "metadata": {
        "id": "O8qLqmDbMtBM"
      },
      "source": [
        "data = pd.read_csv('/content/drive/MyDrive/Artificial_Intelligence/hackathon_samara_2021/dataset/train.csv',nrows=10000)\n",
        "data_list = data.values.tolist()"
      ],
      "execution_count": 14,
      "outputs": []
    },
    {
      "cell_type": "code",
      "metadata": {
        "colab": {
          "base_uri": "https://localhost:8080/",
          "height": 423
        },
        "id": "F2eRTy2COR0y",
        "outputId": "bb9e48b0-476c-4592-868b-9c494f46db87"
      },
      "source": [
        "data"
      ],
      "execution_count": 16,
      "outputs": [
        {
          "output_type": "execute_result",
          "data": {
            "text/html": [
              "<div>\n",
              "<style scoped>\n",
              "    .dataframe tbody tr th:only-of-type {\n",
              "        vertical-align: middle;\n",
              "    }\n",
              "\n",
              "    .dataframe tbody tr th {\n",
              "        vertical-align: top;\n",
              "    }\n",
              "\n",
              "    .dataframe thead th {\n",
              "        text-align: right;\n",
              "    }\n",
              "</style>\n",
              "<table border=\"1\" class=\"dataframe\">\n",
              "  <thead>\n",
              "    <tr style=\"text-align: right;\">\n",
              "      <th></th>\n",
              "      <th>id</th>\n",
              "      <th>text</th>\n",
              "      <th>label</th>\n",
              "    </tr>\n",
              "  </thead>\n",
              "  <tbody>\n",
              "    <tr>\n",
              "      <th>0</th>\n",
              "      <td>0</td>\n",
              "      <td>Температура тела : 36,5 С\\nВеc, кг : 74 ,\\nРос...</td>\n",
              "      <td>0</td>\n",
              "    </tr>\n",
              "    <tr>\n",
              "      <th>1</th>\n",
              "      <td>1</td>\n",
              "      <td>Педикулез : отр\\nЧесотка : отр\\nИБС СН 2фк\\nДа...</td>\n",
              "      <td>0</td>\n",
              "    </tr>\n",
              "    <tr>\n",
              "      <th>2</th>\n",
              "      <td>2</td>\n",
              "      <td>Температура тела : 36,4 С\\nВеc, кг : 73 ,\\nРос...</td>\n",
              "      <td>0</td>\n",
              "    </tr>\n",
              "    <tr>\n",
              "      <th>3</th>\n",
              "      <td>3</td>\n",
              "      <td>Температура тела : 36,4 С\\nВеc, кг : 92\\nРост,...</td>\n",
              "      <td>0</td>\n",
              "    </tr>\n",
              "    <tr>\n",
              "      <th>4</th>\n",
              "      <td>4</td>\n",
              "      <td>Педикулез : отр\\nЧесотка : отр\\nФлюорограмма Н...</td>\n",
              "      <td>0</td>\n",
              "    </tr>\n",
              "    <tr>\n",
              "      <th>...</th>\n",
              "      <td>...</td>\n",
              "      <td>...</td>\n",
              "      <td>...</td>\n",
              "    </tr>\n",
              "    <tr>\n",
              "      <th>9995</th>\n",
              "      <td>9995</td>\n",
              "      <td>Температура тела : 36,3 С\\nВеc, кг : 21\\nРост,...</td>\n",
              "      <td>0</td>\n",
              "    </tr>\n",
              "    <tr>\n",
              "      <th>9996</th>\n",
              "      <td>9996</td>\n",
              "      <td>Температура тела : 36,6 С\\nВеc, кг : 65\\nРост,...</td>\n",
              "      <td>0</td>\n",
              "    </tr>\n",
              "    <tr>\n",
              "      <th>9997</th>\n",
              "      <td>9997</td>\n",
              "      <td>Температура тела : 36,6 С\\nВеc, кг : 70\\nРост,...</td>\n",
              "      <td>0</td>\n",
              "    </tr>\n",
              "    <tr>\n",
              "      <th>9998</th>\n",
              "      <td>9998</td>\n",
              "      <td>Температура тела : 36,6 С\\nВеc, кг : 70 ,\\nРос...</td>\n",
              "      <td>0</td>\n",
              "    </tr>\n",
              "    <tr>\n",
              "      <th>9999</th>\n",
              "      <td>9999</td>\n",
              "      <td>Температура тела : 36,5 С\\nВеc, кг : 70\\nРост,...</td>\n",
              "      <td>0</td>\n",
              "    </tr>\n",
              "  </tbody>\n",
              "</table>\n",
              "<p>10000 rows × 3 columns</p>\n",
              "</div>"
            ],
            "text/plain": [
              "        id                                               text  label\n",
              "0        0  Температура тела : 36,5 С\\nВеc, кг : 74 ,\\nРос...      0\n",
              "1        1  Педикулез : отр\\nЧесотка : отр\\nИБС СН 2фк\\nДа...      0\n",
              "2        2  Температура тела : 36,4 С\\nВеc, кг : 73 ,\\nРос...      0\n",
              "3        3  Температура тела : 36,4 С\\nВеc, кг : 92\\nРост,...      0\n",
              "4        4  Педикулез : отр\\nЧесотка : отр\\nФлюорограмма Н...      0\n",
              "...    ...                                                ...    ...\n",
              "9995  9995  Температура тела : 36,3 С\\nВеc, кг : 21\\nРост,...      0\n",
              "9996  9996  Температура тела : 36,6 С\\nВеc, кг : 65\\nРост,...      0\n",
              "9997  9997  Температура тела : 36,6 С\\nВеc, кг : 70\\nРост,...      0\n",
              "9998  9998  Температура тела : 36,6 С\\nВеc, кг : 70 ,\\nРос...      0\n",
              "9999  9999  Температура тела : 36,5 С\\nВеc, кг : 70\\nРост,...      0\n",
              "\n",
              "[10000 rows x 3 columns]"
            ]
          },
          "metadata": {},
          "execution_count": 16
        }
      ]
    },
    {
      "cell_type": "code",
      "metadata": {
        "colab": {
          "base_uri": "https://localhost:8080/",
          "height": 423
        },
        "id": "eCy7AqMYtkw2",
        "outputId": "94cc5d8c-35b3-45a4-c835-30b7d2a72720"
      },
      "source": [
        "tb = pd.read_csv('/content/drive/MyDrive/Artificial_Intelligence/hackathon_samara_2021/dataset/data10t.csv') \n",
        "tb"
      ],
      "execution_count": 7,
      "outputs": [
        {
          "output_type": "execute_result",
          "data": {
            "text/html": [
              "<div>\n",
              "<style scoped>\n",
              "    .dataframe tbody tr th:only-of-type {\n",
              "        vertical-align: middle;\n",
              "    }\n",
              "\n",
              "    .dataframe tbody tr th {\n",
              "        vertical-align: top;\n",
              "    }\n",
              "\n",
              "    .dataframe thead th {\n",
              "        text-align: right;\n",
              "    }\n",
              "</style>\n",
              "<table border=\"1\" class=\"dataframe\">\n",
              "  <thead>\n",
              "    <tr style=\"text-align: right;\">\n",
              "      <th></th>\n",
              "      <th>Unnamed: 0</th>\n",
              "      <th>text</th>\n",
              "    </tr>\n",
              "  </thead>\n",
              "  <tbody>\n",
              "    <tr>\n",
              "      <th>0</th>\n",
              "      <td>0</td>\n",
              "      <td>['цифра', 'уда', 'кровь', 'описание_диагноз', ...</td>\n",
              "    </tr>\n",
              "    <tr>\n",
              "      <th>1</th>\n",
              "      <td>1</td>\n",
              "      <td>['кровь', 'патология', 'чистый', 'нарушить', '...</td>\n",
              "    </tr>\n",
              "    <tr>\n",
              "      <th>2</th>\n",
              "      <td>2</td>\n",
              "      <td>['кровь', 'белого_цвет', 'патология', 'чистый'...</td>\n",
              "    </tr>\n",
              "    <tr>\n",
              "      <th>3</th>\n",
              "      <td>3</td>\n",
              "      <td>['кровь', 'межпредсердный', 'тяжесть', 'патоло...</td>\n",
              "    </tr>\n",
              "    <tr>\n",
              "      <th>4</th>\n",
              "      <td>4</td>\n",
              "      <td>['усиление', 'кровь', 'чистый', 'регулярный', ...</td>\n",
              "    </tr>\n",
              "    <tr>\n",
              "      <th>...</th>\n",
              "      <td>...</td>\n",
              "      <td>...</td>\n",
              "    </tr>\n",
              "    <tr>\n",
              "      <th>9995</th>\n",
              "      <td>9995</td>\n",
              "      <td>['кровь', 'чистый', 'определяться', 'атопическ...</td>\n",
              "    </tr>\n",
              "    <tr>\n",
              "      <th>9996</th>\n",
              "      <td>9996</td>\n",
              "      <td>['кровь', '=', 'вариикозный', 'чистый', 'регул...</td>\n",
              "    </tr>\n",
              "    <tr>\n",
              "      <th>9997</th>\n",
              "      <td>9997</td>\n",
              "      <td>['кровь', '=', 'вариикозный', 'чистый', 'регул...</td>\n",
              "    </tr>\n",
              "    <tr>\n",
              "      <th>9998</th>\n",
              "      <td>9998</td>\n",
              "      <td>['усиление', 'кровь', '140/80', 'чистый', 'пре...</td>\n",
              "    </tr>\n",
              "    <tr>\n",
              "      <th>9999</th>\n",
              "      <td>9999</td>\n",
              "      <td>['кровь', 'борг', 'патология', '140/80', 'чист...</td>\n",
              "    </tr>\n",
              "  </tbody>\n",
              "</table>\n",
              "<p>10000 rows × 2 columns</p>\n",
              "</div>"
            ],
            "text/plain": [
              "      Unnamed: 0                                               text\n",
              "0              0  ['цифра', 'уда', 'кровь', 'описание_диагноз', ...\n",
              "1              1  ['кровь', 'патология', 'чистый', 'нарушить', '...\n",
              "2              2  ['кровь', 'белого_цвет', 'патология', 'чистый'...\n",
              "3              3  ['кровь', 'межпредсердный', 'тяжесть', 'патоло...\n",
              "4              4  ['усиление', 'кровь', 'чистый', 'регулярный', ...\n",
              "...          ...                                                ...\n",
              "9995        9995  ['кровь', 'чистый', 'определяться', 'атопическ...\n",
              "9996        9996  ['кровь', '=', 'вариикозный', 'чистый', 'регул...\n",
              "9997        9997  ['кровь', '=', 'вариикозный', 'чистый', 'регул...\n",
              "9998        9998  ['усиление', 'кровь', '140/80', 'чистый', 'пре...\n",
              "9999        9999  ['кровь', 'борг', 'патология', '140/80', 'чист...\n",
              "\n",
              "[10000 rows x 2 columns]"
            ]
          },
          "metadata": {},
          "execution_count": 7
        }
      ]
    },
    {
      "cell_type": "code",
      "metadata": {
        "id": "eSPw83WhMq7P"
      },
      "source": [
        "train10 = pd.DataFrame()"
      ],
      "execution_count": 33,
      "outputs": []
    },
    {
      "cell_type": "code",
      "metadata": {
        "colab": {
          "base_uri": "https://localhost:8080/",
          "height": 423
        },
        "id": "JxiZozmdPaVg",
        "outputId": "dc278558-1c78-4ac8-e83a-2ee31e2b6231"
      },
      "source": [
        "train10['id'] = data.id\n",
        "train10"
      ],
      "execution_count": 35,
      "outputs": [
        {
          "output_type": "execute_result",
          "data": {
            "text/html": [
              "<div>\n",
              "<style scoped>\n",
              "    .dataframe tbody tr th:only-of-type {\n",
              "        vertical-align: middle;\n",
              "    }\n",
              "\n",
              "    .dataframe tbody tr th {\n",
              "        vertical-align: top;\n",
              "    }\n",
              "\n",
              "    .dataframe thead th {\n",
              "        text-align: right;\n",
              "    }\n",
              "</style>\n",
              "<table border=\"1\" class=\"dataframe\">\n",
              "  <thead>\n",
              "    <tr style=\"text-align: right;\">\n",
              "      <th></th>\n",
              "      <th>id</th>\n",
              "    </tr>\n",
              "  </thead>\n",
              "  <tbody>\n",
              "    <tr>\n",
              "      <th>0</th>\n",
              "      <td>0</td>\n",
              "    </tr>\n",
              "    <tr>\n",
              "      <th>1</th>\n",
              "      <td>1</td>\n",
              "    </tr>\n",
              "    <tr>\n",
              "      <th>2</th>\n",
              "      <td>2</td>\n",
              "    </tr>\n",
              "    <tr>\n",
              "      <th>3</th>\n",
              "      <td>3</td>\n",
              "    </tr>\n",
              "    <tr>\n",
              "      <th>4</th>\n",
              "      <td>4</td>\n",
              "    </tr>\n",
              "    <tr>\n",
              "      <th>...</th>\n",
              "      <td>...</td>\n",
              "    </tr>\n",
              "    <tr>\n",
              "      <th>9995</th>\n",
              "      <td>9995</td>\n",
              "    </tr>\n",
              "    <tr>\n",
              "      <th>9996</th>\n",
              "      <td>9996</td>\n",
              "    </tr>\n",
              "    <tr>\n",
              "      <th>9997</th>\n",
              "      <td>9997</td>\n",
              "    </tr>\n",
              "    <tr>\n",
              "      <th>9998</th>\n",
              "      <td>9998</td>\n",
              "    </tr>\n",
              "    <tr>\n",
              "      <th>9999</th>\n",
              "      <td>9999</td>\n",
              "    </tr>\n",
              "  </tbody>\n",
              "</table>\n",
              "<p>10000 rows × 1 columns</p>\n",
              "</div>"
            ],
            "text/plain": [
              "        id\n",
              "0        0\n",
              "1        1\n",
              "2        2\n",
              "3        3\n",
              "4        4\n",
              "...    ...\n",
              "9995  9995\n",
              "9996  9996\n",
              "9997  9997\n",
              "9998  9998\n",
              "9999  9999\n",
              "\n",
              "[10000 rows x 1 columns]"
            ]
          },
          "metadata": {},
          "execution_count": 35
        }
      ]
    },
    {
      "cell_type": "code",
      "metadata": {
        "colab": {
          "base_uri": "https://localhost:8080/",
          "height": 423
        },
        "id": "8iD0jSY0QUDH",
        "outputId": "6dce0ab0-dc89-4356-9020-15dbc809ae0b"
      },
      "source": [
        "train10['text'] = tb.text\n",
        "train10"
      ],
      "execution_count": 36,
      "outputs": [
        {
          "output_type": "execute_result",
          "data": {
            "text/html": [
              "<div>\n",
              "<style scoped>\n",
              "    .dataframe tbody tr th:only-of-type {\n",
              "        vertical-align: middle;\n",
              "    }\n",
              "\n",
              "    .dataframe tbody tr th {\n",
              "        vertical-align: top;\n",
              "    }\n",
              "\n",
              "    .dataframe thead th {\n",
              "        text-align: right;\n",
              "    }\n",
              "</style>\n",
              "<table border=\"1\" class=\"dataframe\">\n",
              "  <thead>\n",
              "    <tr style=\"text-align: right;\">\n",
              "      <th></th>\n",
              "      <th>id</th>\n",
              "      <th>text</th>\n",
              "    </tr>\n",
              "  </thead>\n",
              "  <tbody>\n",
              "    <tr>\n",
              "      <th>0</th>\n",
              "      <td>0</td>\n",
              "      <td>['цифра', 'уда', 'кровь', 'описание_диагноз', ...</td>\n",
              "    </tr>\n",
              "    <tr>\n",
              "      <th>1</th>\n",
              "      <td>1</td>\n",
              "      <td>['кровь', 'патология', 'чистый', 'нарушить', '...</td>\n",
              "    </tr>\n",
              "    <tr>\n",
              "      <th>2</th>\n",
              "      <td>2</td>\n",
              "      <td>['кровь', 'белого_цвет', 'патология', 'чистый'...</td>\n",
              "    </tr>\n",
              "    <tr>\n",
              "      <th>3</th>\n",
              "      <td>3</td>\n",
              "      <td>['кровь', 'межпредсердный', 'тяжесть', 'патоло...</td>\n",
              "    </tr>\n",
              "    <tr>\n",
              "      <th>4</th>\n",
              "      <td>4</td>\n",
              "      <td>['усиление', 'кровь', 'чистый', 'регулярный', ...</td>\n",
              "    </tr>\n",
              "    <tr>\n",
              "      <th>...</th>\n",
              "      <td>...</td>\n",
              "      <td>...</td>\n",
              "    </tr>\n",
              "    <tr>\n",
              "      <th>9995</th>\n",
              "      <td>9995</td>\n",
              "      <td>['кровь', 'чистый', 'определяться', 'атопическ...</td>\n",
              "    </tr>\n",
              "    <tr>\n",
              "      <th>9996</th>\n",
              "      <td>9996</td>\n",
              "      <td>['кровь', '=', 'вариикозный', 'чистый', 'регул...</td>\n",
              "    </tr>\n",
              "    <tr>\n",
              "      <th>9997</th>\n",
              "      <td>9997</td>\n",
              "      <td>['кровь', '=', 'вариикозный', 'чистый', 'регул...</td>\n",
              "    </tr>\n",
              "    <tr>\n",
              "      <th>9998</th>\n",
              "      <td>9998</td>\n",
              "      <td>['усиление', 'кровь', '140/80', 'чистый', 'пре...</td>\n",
              "    </tr>\n",
              "    <tr>\n",
              "      <th>9999</th>\n",
              "      <td>9999</td>\n",
              "      <td>['кровь', 'борг', 'патология', '140/80', 'чист...</td>\n",
              "    </tr>\n",
              "  </tbody>\n",
              "</table>\n",
              "<p>10000 rows × 2 columns</p>\n",
              "</div>"
            ],
            "text/plain": [
              "        id                                               text\n",
              "0        0  ['цифра', 'уда', 'кровь', 'описание_диагноз', ...\n",
              "1        1  ['кровь', 'патология', 'чистый', 'нарушить', '...\n",
              "2        2  ['кровь', 'белого_цвет', 'патология', 'чистый'...\n",
              "3        3  ['кровь', 'межпредсердный', 'тяжесть', 'патоло...\n",
              "4        4  ['усиление', 'кровь', 'чистый', 'регулярный', ...\n",
              "...    ...                                                ...\n",
              "9995  9995  ['кровь', 'чистый', 'определяться', 'атопическ...\n",
              "9996  9996  ['кровь', '=', 'вариикозный', 'чистый', 'регул...\n",
              "9997  9997  ['кровь', '=', 'вариикозный', 'чистый', 'регул...\n",
              "9998  9998  ['усиление', 'кровь', '140/80', 'чистый', 'пре...\n",
              "9999  9999  ['кровь', 'борг', 'патология', '140/80', 'чист...\n",
              "\n",
              "[10000 rows x 2 columns]"
            ]
          },
          "metadata": {},
          "execution_count": 36
        }
      ]
    },
    {
      "cell_type": "code",
      "metadata": {
        "colab": {
          "base_uri": "https://localhost:8080/",
          "height": 423
        },
        "id": "7GGGld9nQiW_",
        "outputId": "219581b0-e1ad-48ae-d112-0db295733088"
      },
      "source": [
        "train10['label'] = data.label\n",
        "train10"
      ],
      "execution_count": 37,
      "outputs": [
        {
          "output_type": "execute_result",
          "data": {
            "text/html": [
              "<div>\n",
              "<style scoped>\n",
              "    .dataframe tbody tr th:only-of-type {\n",
              "        vertical-align: middle;\n",
              "    }\n",
              "\n",
              "    .dataframe tbody tr th {\n",
              "        vertical-align: top;\n",
              "    }\n",
              "\n",
              "    .dataframe thead th {\n",
              "        text-align: right;\n",
              "    }\n",
              "</style>\n",
              "<table border=\"1\" class=\"dataframe\">\n",
              "  <thead>\n",
              "    <tr style=\"text-align: right;\">\n",
              "      <th></th>\n",
              "      <th>id</th>\n",
              "      <th>text</th>\n",
              "      <th>label</th>\n",
              "    </tr>\n",
              "  </thead>\n",
              "  <tbody>\n",
              "    <tr>\n",
              "      <th>0</th>\n",
              "      <td>0</td>\n",
              "      <td>['цифра', 'уда', 'кровь', 'описание_диагноз', ...</td>\n",
              "      <td>0</td>\n",
              "    </tr>\n",
              "    <tr>\n",
              "      <th>1</th>\n",
              "      <td>1</td>\n",
              "      <td>['кровь', 'патология', 'чистый', 'нарушить', '...</td>\n",
              "      <td>0</td>\n",
              "    </tr>\n",
              "    <tr>\n",
              "      <th>2</th>\n",
              "      <td>2</td>\n",
              "      <td>['кровь', 'белого_цвет', 'патология', 'чистый'...</td>\n",
              "      <td>0</td>\n",
              "    </tr>\n",
              "    <tr>\n",
              "      <th>3</th>\n",
              "      <td>3</td>\n",
              "      <td>['кровь', 'межпредсердный', 'тяжесть', 'патоло...</td>\n",
              "      <td>0</td>\n",
              "    </tr>\n",
              "    <tr>\n",
              "      <th>4</th>\n",
              "      <td>4</td>\n",
              "      <td>['усиление', 'кровь', 'чистый', 'регулярный', ...</td>\n",
              "      <td>0</td>\n",
              "    </tr>\n",
              "    <tr>\n",
              "      <th>...</th>\n",
              "      <td>...</td>\n",
              "      <td>...</td>\n",
              "      <td>...</td>\n",
              "    </tr>\n",
              "    <tr>\n",
              "      <th>9995</th>\n",
              "      <td>9995</td>\n",
              "      <td>['кровь', 'чистый', 'определяться', 'атопическ...</td>\n",
              "      <td>0</td>\n",
              "    </tr>\n",
              "    <tr>\n",
              "      <th>9996</th>\n",
              "      <td>9996</td>\n",
              "      <td>['кровь', '=', 'вариикозный', 'чистый', 'регул...</td>\n",
              "      <td>0</td>\n",
              "    </tr>\n",
              "    <tr>\n",
              "      <th>9997</th>\n",
              "      <td>9997</td>\n",
              "      <td>['кровь', '=', 'вариикозный', 'чистый', 'регул...</td>\n",
              "      <td>0</td>\n",
              "    </tr>\n",
              "    <tr>\n",
              "      <th>9998</th>\n",
              "      <td>9998</td>\n",
              "      <td>['усиление', 'кровь', '140/80', 'чистый', 'пре...</td>\n",
              "      <td>0</td>\n",
              "    </tr>\n",
              "    <tr>\n",
              "      <th>9999</th>\n",
              "      <td>9999</td>\n",
              "      <td>['кровь', 'борг', 'патология', '140/80', 'чист...</td>\n",
              "      <td>0</td>\n",
              "    </tr>\n",
              "  </tbody>\n",
              "</table>\n",
              "<p>10000 rows × 3 columns</p>\n",
              "</div>"
            ],
            "text/plain": [
              "        id                                               text  label\n",
              "0        0  ['цифра', 'уда', 'кровь', 'описание_диагноз', ...      0\n",
              "1        1  ['кровь', 'патология', 'чистый', 'нарушить', '...      0\n",
              "2        2  ['кровь', 'белого_цвет', 'патология', 'чистый'...      0\n",
              "3        3  ['кровь', 'межпредсердный', 'тяжесть', 'патоло...      0\n",
              "4        4  ['усиление', 'кровь', 'чистый', 'регулярный', ...      0\n",
              "...    ...                                                ...    ...\n",
              "9995  9995  ['кровь', 'чистый', 'определяться', 'атопическ...      0\n",
              "9996  9996  ['кровь', '=', 'вариикозный', 'чистый', 'регул...      0\n",
              "9997  9997  ['кровь', '=', 'вариикозный', 'чистый', 'регул...      0\n",
              "9998  9998  ['усиление', 'кровь', '140/80', 'чистый', 'пре...      0\n",
              "9999  9999  ['кровь', 'борг', 'патология', '140/80', 'чист...      0\n",
              "\n",
              "[10000 rows x 3 columns]"
            ]
          },
          "metadata": {},
          "execution_count": 37
        }
      ]
    },
    {
      "cell_type": "code",
      "metadata": {
        "colab": {
          "base_uri": "https://localhost:8080/",
          "height": 206
        },
        "id": "3iPqnp1Ot-gw",
        "outputId": "9bbb3c3b-1ea7-43a5-f46e-5e9bdcdbb250"
      },
      "source": [
        "train10.head(5)"
      ],
      "execution_count": 39,
      "outputs": [
        {
          "output_type": "execute_result",
          "data": {
            "text/html": [
              "<div>\n",
              "<style scoped>\n",
              "    .dataframe tbody tr th:only-of-type {\n",
              "        vertical-align: middle;\n",
              "    }\n",
              "\n",
              "    .dataframe tbody tr th {\n",
              "        vertical-align: top;\n",
              "    }\n",
              "\n",
              "    .dataframe thead th {\n",
              "        text-align: right;\n",
              "    }\n",
              "</style>\n",
              "<table border=\"1\" class=\"dataframe\">\n",
              "  <thead>\n",
              "    <tr style=\"text-align: right;\">\n",
              "      <th></th>\n",
              "      <th>id</th>\n",
              "      <th>text</th>\n",
              "      <th>label</th>\n",
              "    </tr>\n",
              "  </thead>\n",
              "  <tbody>\n",
              "    <tr>\n",
              "      <th>0</th>\n",
              "      <td>0</td>\n",
              "      <td>['цифра', 'уда', 'кровь', 'описание_диагноз', ...</td>\n",
              "      <td>0</td>\n",
              "    </tr>\n",
              "    <tr>\n",
              "      <th>1</th>\n",
              "      <td>1</td>\n",
              "      <td>['кровь', 'патология', 'чистый', 'нарушить', '...</td>\n",
              "      <td>0</td>\n",
              "    </tr>\n",
              "    <tr>\n",
              "      <th>2</th>\n",
              "      <td>2</td>\n",
              "      <td>['кровь', 'белого_цвет', 'патология', 'чистый'...</td>\n",
              "      <td>0</td>\n",
              "    </tr>\n",
              "    <tr>\n",
              "      <th>3</th>\n",
              "      <td>3</td>\n",
              "      <td>['кровь', 'межпредсердный', 'тяжесть', 'патоло...</td>\n",
              "      <td>0</td>\n",
              "    </tr>\n",
              "    <tr>\n",
              "      <th>4</th>\n",
              "      <td>4</td>\n",
              "      <td>['усиление', 'кровь', 'чистый', 'регулярный', ...</td>\n",
              "      <td>0</td>\n",
              "    </tr>\n",
              "  </tbody>\n",
              "</table>\n",
              "</div>"
            ],
            "text/plain": [
              "   id                                               text  label\n",
              "0   0  ['цифра', 'уда', 'кровь', 'описание_диагноз', ...      0\n",
              "1   1  ['кровь', 'патология', 'чистый', 'нарушить', '...      0\n",
              "2   2  ['кровь', 'белого_цвет', 'патология', 'чистый'...      0\n",
              "3   3  ['кровь', 'межпредсердный', 'тяжесть', 'патоло...      0\n",
              "4   4  ['усиление', 'кровь', 'чистый', 'регулярный', ...      0"
            ]
          },
          "metadata": {},
          "execution_count": 39
        }
      ]
    },
    {
      "cell_type": "code",
      "metadata": {
        "colab": {
          "base_uri": "https://localhost:8080/"
        },
        "id": "NIB8eRuyvzcs",
        "outputId": "921c338b-730f-4e06-ef3c-c79672aad22d"
      },
      "source": [
        "train10.dtypes"
      ],
      "execution_count": 40,
      "outputs": [
        {
          "output_type": "execute_result",
          "data": {
            "text/plain": [
              "id        int64\n",
              "text     object\n",
              "label     int64\n",
              "dtype: object"
            ]
          },
          "metadata": {},
          "execution_count": 40
        }
      ]
    },
    {
      "cell_type": "code",
      "metadata": {
        "colab": {
          "base_uri": "https://localhost:8080/"
        },
        "id": "jpWu8jF1v3EA",
        "outputId": "16dd601a-cf32-4e71-d5b9-e72338de53f2"
      },
      "source": [
        "train10.shape"
      ],
      "execution_count": 41,
      "outputs": [
        {
          "output_type": "execute_result",
          "data": {
            "text/plain": [
              "(10000, 3)"
            ]
          },
          "metadata": {},
          "execution_count": 41
        }
      ]
    },
    {
      "cell_type": "code",
      "metadata": {
        "colab": {
          "base_uri": "https://localhost:8080/",
          "height": 140
        },
        "id": "GKAs0Ddq_ri1",
        "outputId": "0aef0af6-1744-46a4-cf43-74c044d5be6b"
      },
      "source": [
        "train10['text'][0]"
      ],
      "execution_count": 42,
      "outputs": [
        {
          "output_type": "execute_result",
          "data": {
            "application/vnd.google.colaboratory.intrinsic+json": {
              "type": "string"
            },
            "text/plain": [
              "\"['цифра', 'уда', 'кровь', 'описание_диагноз', 'не_увеличены', 'нарушение', '41', 'чистый', 'регулярный', 'порядок', 'экв', 'г', 'вид', 'температура', 'повышение', 'туберкулез', 'приемный', 'боль', 'iii', 'везикулярный', 'анамнез', 'онмк', '68', 'мина', 'пыхание', 'язык', '2008,', 'право', 'киста', 'осень', 'давление', 'каг', 'розовый', 'град', 'инфекционный', 'кальциноз', 'система', 'лечебный', 'повод', 'состояние', 'отделение', 'не_определяется', 'миндалина', 'время', 'первично', '2011,', 'стенокардия', 'кг', 'терапия', 'переливание', 'имя', 'осл', 'артериальный', 'пиелонефрит', 'мягкий', 'дыхание', 'год', 'риск', 'п-ка', '34', 'пролапс', 'способ', 'оформить', 'ад', 'пульс', '31', '15.01.2016', 'гипертонический', 'живот', '12.2015', 'отр', 'сердечно-сосудистый', 'гепатит', 'c', 'ст', 'физиотерапевт', '74', 'мин', 'лечебно-диагностический', 'чесотка', 'контакт', 'обследовать', 'мкб', 'санкт-петербург', 'аускультативный', 'кожный', 'шум', 'осн', 'поколачивание', '4', 'общий', '36,0', '2013', 'аорта', '160/90', 'частота', 'железо', 'сустав', 'расширение', '120\\\\\\\\70', 'предъявлять', 'кс', 'госпитализировать', 'выдох', 'безболезненный', 'отдел', 'нижний', 'варикозный', 'больной', '2014', 'канал', 'выполняться', '20.8', 'одышка', 'гиперлипидемия', 'уд', 'лихорадка', 'влажный', '#', 'серия', 'нтг', 'кишка', 'статус', 'самостоятельно', '70-80', 'стул', 'заболевание', 'хрип', '2', 'граница', 'стресс-тест', 'плановый', 'кдц', 'макс', '&', 'госпитализация', '39', 'пребывание', '–', 'ii', 'сн', '90', '2008', 'отек', 'хр', '№', 'цель', '2002', 'плечевой', '1', 'жалоба', 'покров', 'форма', 'видимый', 'учреждение', 'отрицательный', 'восходящий', 'вмешательство', 'поясничный', '-', 'напряжение', 'сопа', 'не_увеличить', 'тело', 'мм', 'ибс', 'текущий', 'хронический', 'отрицать', 'поступление', 'отмечать', '96', 'доставка', 'рт', 'сердце', 'вено', '20', '135/80', 'толстый', 'рост', 'постановки_диагноз', 'эутиреоз', 'зев', 'фк', 'i', 'смотреть', '15', 'длительный', 'безболезненно_с_обеих_сторон', 'мн', 'планово', 'данный', 'фмица', 'удовлетворительный', 'транзиторный', 'диагноз_поступления_основич', '176', 'болезнь', 'печень', 'флюорограмма', 'связь', 'дыхательный', 'мочевыделительный', 'д', 'педикулез', 'обычный', 'правый', 'слизистая', 'полип', '01.2016', 'оперативный', '_', 'клапан', 'конечность', 'желудочно-кишечный', '16', 'ав-блокада', 'транспортировка', 'щитовидный', 'акс', 'клинический', 'направить', 'ве', 'не_определяться', 'комитет_здравоохранение', 'без_патология', 'тракт', 'дата', 'не_выслушиваться', 'железа', '36,5', 'инъекция', ';)', 'область', ';', 'исследование', 'мк', '00']\""
            ]
          },
          "metadata": {},
          "execution_count": 42
        }
      ]
    }
  ]
}